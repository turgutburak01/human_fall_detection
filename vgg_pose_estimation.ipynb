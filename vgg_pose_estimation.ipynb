{
  "nbformat": 4,
  "nbformat_minor": 0,
  "metadata": {
    "colab": {
      "provenance": [],
      "gpuType": "T4",
      "machine_shape": "hm"
    },
    "kernelspec": {
      "name": "python3",
      "display_name": "Python 3"
    },
    "language_info": {
      "name": "python"
    },
    "gpuClass": "standard",
    "accelerator": "GPU"
  },
  "cells": [
    {
      "cell_type": "code",
      "source": [
        "from google.colab import drive\n",
        "drive.mount(\"/content/gdrive/\")"
      ],
      "metadata": {
        "colab": {
          "base_uri": "https://localhost:8080/"
        },
        "id": "0S4IkdQQbw-j",
        "outputId": "88477e9b-fa8b-423e-ad5b-54e9da8f1766"
      },
      "execution_count": null,
      "outputs": [
        {
          "output_type": "stream",
          "name": "stdout",
          "text": [
            "Mounted at /content/gdrive/\n"
          ]
        }
      ]
    },
    {
      "cell_type": "code",
      "source": [
        "gpu_info = !nvidia-smi\n",
        "gpu_info = '\\n'.join(gpu_info)\n",
        "if gpu_info.find('failed') >= 0:\n",
        "  print('Not connected to a GPU')\n",
        "else:\n",
        "  print(gpu_info)"
      ],
      "metadata": {
        "colab": {
          "base_uri": "https://localhost:8080/"
        },
        "id": "NqoUoAZ7fWVc",
        "outputId": "2ec1cc3a-c538-4ebb-9b49-45120fb3fa2f"
      },
      "execution_count": null,
      "outputs": [
        {
          "output_type": "stream",
          "name": "stdout",
          "text": [
            "Wed Jun  7 15:08:26 2023       \n",
            "+-----------------------------------------------------------------------------+\n",
            "| NVIDIA-SMI 525.85.12    Driver Version: 525.85.12    CUDA Version: 12.0     |\n",
            "|-------------------------------+----------------------+----------------------+\n",
            "| GPU  Name        Persistence-M| Bus-Id        Disp.A | Volatile Uncorr. ECC |\n",
            "| Fan  Temp  Perf  Pwr:Usage/Cap|         Memory-Usage | GPU-Util  Compute M. |\n",
            "|                               |                      |               MIG M. |\n",
            "|===============================+======================+======================|\n",
            "|   0  Tesla T4            Off  | 00000000:00:04.0 Off |                    0 |\n",
            "| N/A   48C    P8    10W /  70W |      0MiB / 15360MiB |      0%      Default |\n",
            "|                               |                      |                  N/A |\n",
            "+-------------------------------+----------------------+----------------------+\n",
            "                                                                               \n",
            "+-----------------------------------------------------------------------------+\n",
            "| Processes:                                                                  |\n",
            "|  GPU   GI   CI        PID   Type   Process name                  GPU Memory |\n",
            "|        ID   ID                                                   Usage      |\n",
            "|=============================================================================|\n",
            "|  No running processes found                                                 |\n",
            "+-----------------------------------------------------------------------------+\n"
          ]
        }
      ]
    },
    {
      "cell_type": "code",
      "execution_count": null,
      "metadata": {
        "id": "j4xh4083V0ic"
      },
      "outputs": [],
      "source": [
        "import torch\n",
        "import torch.nn as nn\n",
        "import torch.optim as optim\n",
        "from torch.optim import lr_scheduler\n",
        "from torch.utils.data import DataLoader\n",
        "from torchvision import models, transforms, datasets\n",
        "from PIL import Image\n",
        "import matplotlib.pyplot as plt\n",
        "import numpy as np\n",
        "import os\n",
        "import time\n",
        "import cv2\n",
        "import random\n",
        "import shutil"
      ]
    },
    {
      "cell_type": "code",
      "source": [
        "!unzip /content/gdrive/MyDrive/pose_fall_data224x224.zip"
      ],
      "metadata": {
        "id": "PfMayBk4nVBJ"
      },
      "execution_count": null,
      "outputs": []
    },
    {
      "cell_type": "code",
      "source": [
        "base_dir = \"/content/gdrive/MyDrive/pose_fall_data/\"\n",
        "destination_dir = \"pose_fall_data224x224/\"\n",
        "\n",
        "# Hedef dizini oluşturma\n",
        "if not os.path.exists(destination_dir):\n",
        "    os.makedirs(destination_dir)\n",
        "\n",
        "# Train ve test dizinlerini al\n",
        "train_dir = os.path.join(base_dir, \"train\")\n",
        "test_dir = os.path.join(base_dir, \"test\")\n",
        "\n",
        "# Her bir dizindeki sınıf dizinlerini al\n",
        "class_dirs = [\"fall\", \"non-fall\"]\n",
        "\n",
        "for class_dir in class_dirs:\n",
        "    # Sınıf dizinlerinin yollarını oluştur\n",
        "    train_class_path = os.path.join(train_dir, class_dir)\n",
        "    test_class_path = os.path.join(test_dir, class_dir)\n",
        "\n",
        "    # Hedef sınıf dizinlerinin yollarını oluştur\n",
        "    dest_train_class_path = os.path.join(destination_dir, \"train\", class_dir)\n",
        "    dest_test_class_path = os.path.join(destination_dir, \"test\", class_dir)\n",
        "\n",
        "    # Hedef sınıf dizinlerini oluşturma\n",
        "    if not os.path.exists(dest_train_class_path):\n",
        "        os.makedirs(dest_train_class_path)\n",
        "    if not os.path.exists(dest_test_class_path):\n",
        "        os.makedirs(dest_test_class_path)\n",
        "\n",
        "    # Train dizinindeki görüntüleri işleme\n",
        "    train_files = os.listdir(train_class_path)\n",
        "    for file_name in train_files:\n",
        "        # Dosya yolunu oluşturma\n",
        "        source_path = os.path.join(train_class_path, file_name)\n",
        "\n",
        "        # Görüntüyü açma\n",
        "        image = Image.open(source_path)\n",
        "\n",
        "        # Yeniden boyutlandırma\n",
        "        resized_image = image.resize((224, 224))\n",
        "\n",
        "        # Yeni dosya yolunu oluşturma\n",
        "        destination_path = os.path.join(dest_train_class_path, file_name)\n",
        "\n",
        "        # Yeniden boyutlandırılmış görüntüyü kaydetme\n",
        "        resized_image.save(destination_path)\n",
        "\n",
        "        print(f\"{file_name} başarıyla kaydedildi.\")\n",
        "\n",
        "    # Test dizinindeki görüntüleri işleme\n",
        "    test_files = os.listdir(test_class_path)\n",
        "    for file_name in test_files:\n",
        "        # Dosya yolunu oluşturma\n",
        "        source_path = os.path.join(test_class_path, file_name)\n",
        "\n",
        "        # Görüntüyü açma\n",
        "        image = Image.open(source_path)\n",
        "\n",
        "        # Yeniden boyutlandırma\n",
        "        resized_image = image.resize((224, 224))\n",
        "\n",
        "        # Yeni dosya yolunu oluşturma\n",
        "        destination_path = os.path.join(dest_test_class_path, file_name)\n",
        "\n",
        "        # Yeniden boyutlandırılmış görüntüyü kaydetme\n",
        "        resized_image.save(destination_path)\n",
        "\n",
        "        print(f\"{file_name} başarıyla kaydedildi.\")\n",
        "\n",
        "print(\"Tüm görüntüler başarıyla işlendi ve kaydedildi.\")"
      ],
      "metadata": {
        "id": "6w8ARoh6hmIJ"
      },
      "execution_count": null,
      "outputs": []
    },
    {
      "cell_type": "code",
      "source": [
        "data_dir = '/content/pose_fall_data224x224'\n",
        "train_dir = os.path.join(data_dir, 'train')\n",
        "val_dir = os.path.join(data_dir, 'val')\n",
        "\n",
        "os.makedirs(val_dir, exist_ok=True)\n",
        "\n",
        "class_names = ['fall', 'non-fall']\n",
        "\n",
        "for class_name in class_names:\n",
        "    os.makedirs(os.path.join(val_dir, class_name), exist_ok=True)\n",
        "\n",
        "for class_name in class_names:\n",
        "    class_dir = os.path.join(train_dir, class_name)\n",
        "    image_files = os.listdir(class_dir)\n",
        "    random.shuffle(image_files)\n",
        "\n",
        "    val_percentage = 0.2\n",
        "    val_size = int(len(image_files) * val_percentage)\n",
        "    val_files = image_files[:val_size]\n",
        "\n",
        "    for val_file in val_files:\n",
        "        src = os.path.join(class_dir, val_file)\n",
        "        dst = os.path.join(val_dir, class_name, val_file)\n",
        "        shutil.move(src, dst)\n",
        "\n",
        "data_transforms = {\n",
        "    'train': transforms.Compose([\n",
        "        transforms.Resize((224, 224)),\n",
        "        transforms.ToTensor(),\n",
        "        transforms.Normalize([0.485, 0.456, 0.406], [0.229, 0.224, 0.225])\n",
        "    ]),\n",
        "    'val': transforms.Compose([\n",
        "        transforms.Resize((224, 224)),\n",
        "        transforms.ToTensor(),\n",
        "        transforms.Normalize([0.485, 0.456, 0.406], [0.229, 0.224, 0.225])\n",
        "    ]),\n",
        "}\n",
        "\n",
        "image_datasets = {\n",
        "    'train': datasets.ImageFolder(train_dir, data_transforms['train']),\n",
        "    'val': datasets.ImageFolder(val_dir, data_transforms['val'])\n",
        "}\n",
        "\n",
        "dataloaders = {\n",
        "    'train': DataLoader(image_datasets['train'], batch_size=8, shuffle=True, num_workers=2),\n",
        "    'val': DataLoader(image_datasets['val'], batch_size=8, shuffle=True, num_workers=2)\n",
        "}\n",
        "\n",
        "dataset_sizes = {\n",
        "    'train': len(image_datasets['train']),\n",
        "    'val': len(image_datasets['val'])\n",
        "}\n",
        "\n",
        "device = torch.device(\"cuda:0\" if torch.cuda.is_available() else \"cpu\")\n"
      ],
      "metadata": {
        "id": "8lWKB3SsmeD5"
      },
      "execution_count": null,
      "outputs": []
    },
    {
      "cell_type": "code",
      "source": [
        "model = models.vgg16(pretrained=True)\n",
        "\n",
        "print(\"Önceki Classifier Hali:\")\n",
        "print(model.classifier)\n",
        "\n",
        "# Modelin sınıflandırma katmanları\n",
        "classifier = list(model.classifier.children())\n",
        "\n",
        "# Son üç katmanı kaldırma\n",
        "classifier = classifier[:-3]\n",
        "\n",
        "# Yeni sınıflandırma katmanını oluşturma\n",
        "new_classifier = nn.Sequential(*classifier)\n",
        "\n",
        "# Modelin sınıflandırma katmanını güncelleme\n",
        "model.classifier = new_classifier\n",
        "\n",
        "# Son sınıflandırma katmanından sonra gelen parametreleri dondurma\n",
        "for param in model.features.parameters():\n",
        "    param.requires_grad = False\n",
        "\n",
        "print(\"Sonraki Classifier Hali:\")\n",
        "print(model.classifier)\n",
        "\n",
        "# Modeli GPU'ya taşıma\n",
        "device = torch.device(\"cuda:0\" if torch.cuda.is_available() else \"cpu\")\n",
        "model = model.to(device)\n"
      ],
      "metadata": {
        "id": "NjOmU12yVUaM"
      },
      "execution_count": null,
      "outputs": []
    },
    {
      "cell_type": "code",
      "source": [
        "model = models.vgg16(pretrained=True)\n",
        "\n",
        "print(\"Önceki Classifier Hali:\")\n",
        "print(model.classifier)\n",
        "\n",
        "# Modelin sınıflandırma katmanlarını alın\n",
        "classifier = list(model.classifier.children())\n",
        "\n",
        "# Son üç tam bağlantılı katmanı kaldırın\n",
        "classifier = classifier[:-3]\n",
        "\n",
        "# Yeni sınıflandırma katmanını oluşturun\n",
        "new_classifier = nn.Sequential(*classifier)\n",
        "\n",
        "# Modelin sınıflandırma katmanını güncelleyin\n",
        "model.classifier = new_classifier\n",
        "\n",
        "# Son sınıflandırma katmanından sonra gelen parametreleri dondurucu yapın\n",
        "for param in model.features.parameters():\n",
        "    param.requires_grad = False\n",
        "\n",
        "print(\"Sonraki Classifier Hali:\")\n",
        "print(model.classifier)\n",
        "\n",
        "# Modeli GPU'ya taşıma\n",
        "device = torch.device(\"cuda:0\" if torch.cuda.is_available() else \"cpu\")\n",
        "model = model.to(device)\n"
      ],
      "metadata": {
        "colab": {
          "base_uri": "https://localhost:8080/"
        },
        "id": "gLifLsZLmehK",
        "outputId": "a44d7427-e4fb-40b9-ff5e-c46442c1d6a2"
      },
      "execution_count": null,
      "outputs": [
        {
          "output_type": "stream",
          "name": "stderr",
          "text": [
            "/usr/local/lib/python3.10/dist-packages/torchvision/models/_utils.py:208: UserWarning: The parameter 'pretrained' is deprecated since 0.13 and may be removed in the future, please use 'weights' instead.\n",
            "  warnings.warn(\n",
            "/usr/local/lib/python3.10/dist-packages/torchvision/models/_utils.py:223: UserWarning: Arguments other than a weight enum or `None` for 'weights' are deprecated since 0.13 and may be removed in the future. The current behavior is equivalent to passing `weights=VGG16_Weights.IMAGENET1K_V1`. You can also use `weights=VGG16_Weights.DEFAULT` to get the most up-to-date weights.\n",
            "  warnings.warn(msg)\n",
            "Downloading: \"https://download.pytorch.org/models/vgg16-397923af.pth\" to /root/.cache/torch/hub/checkpoints/vgg16-397923af.pth\n",
            "100%|██████████| 528M/528M [00:04<00:00, 133MB/s]\n"
          ]
        },
        {
          "output_type": "stream",
          "name": "stdout",
          "text": [
            "Önceki Classifier Hali:\n",
            "Sequential(\n",
            "  (0): Linear(in_features=25088, out_features=4096, bias=True)\n",
            "  (1): ReLU(inplace=True)\n",
            "  (2): Dropout(p=0.5, inplace=False)\n",
            "  (3): Linear(in_features=4096, out_features=4096, bias=True)\n",
            "  (4): ReLU(inplace=True)\n",
            "  (5): Dropout(p=0.5, inplace=False)\n",
            "  (6): Linear(in_features=4096, out_features=1000, bias=True)\n",
            ")\n",
            "Sonraki Classifier Hali:\n",
            "Sequential(\n",
            "  (0): Linear(in_features=25088, out_features=4096, bias=True)\n",
            "  (1): ReLU(inplace=True)\n",
            "  (2): Dropout(p=0.5, inplace=False)\n",
            "  (3): Linear(in_features=4096, out_features=4096, bias=True)\n",
            ")\n"
          ]
        }
      ]
    },
    {
      "cell_type": "code",
      "source": [
        "def train_model(model, criterion, optimizer, scheduler, num_epochs=10):\n",
        "    best_acc = 0.0\n",
        "    train_acc_history = []\n",
        "    val_acc_history = []\n",
        "    train_loss_history = []\n",
        "    val_loss_history = []\n",
        "\n",
        "    for epoch in range(num_epochs):\n",
        "        print('Epoch {}/{}'.format(epoch + 1, num_epochs))\n",
        "        print('-' * 10)\n",
        "\n",
        "        for phase in ['train', 'val']:\n",
        "            if phase == 'train':\n",
        "                model.train()\n",
        "            else:\n",
        "                model.eval()\n",
        "\n",
        "            running_loss = 0.0\n",
        "            running_corrects = 0\n",
        "\n",
        "            for inputs, labels in dataloaders[phase]:\n",
        "                inputs = inputs.to(device)\n",
        "                labels = labels.to(device)\n",
        "\n",
        "                optimizer.zero_grad()\n",
        "\n",
        "                with torch.set_grad_enabled(phase == 'train'):\n",
        "                    outputs = model(inputs)\n",
        "                    _, preds = torch.max(outputs, 1)\n",
        "                    loss = criterion(outputs, labels)\n",
        "\n",
        "                    if phase == 'train':\n",
        "                        loss.backward()\n",
        "                        optimizer.step()\n",
        "\n",
        "                running_loss += loss.item() * inputs.size(0)\n",
        "                running_corrects += torch.sum(preds == labels.data)\n",
        "\n",
        "            if phase == 'train':\n",
        "                scheduler.step()\n",
        "\n",
        "            epoch_loss = running_loss / dataset_sizes[phase]\n",
        "            epoch_acc = running_corrects.double() / dataset_sizes[phase]\n",
        "\n",
        "            print('{} Loss: {:.4f} Acc: {:.4f}'.format(phase, epoch_loss, epoch_acc))\n",
        "\n",
        "            if phase == 'train':\n",
        "                train_acc_history.append(epoch_acc)\n",
        "                train_loss_history.append(epoch_loss)\n",
        "            else:\n",
        "                val_acc_history.append(epoch_acc)\n",
        "                val_loss_history.append(epoch_loss)\n",
        "\n",
        "            if phase == 'val' and epoch_acc > best_acc:\n",
        "                best_acc = epoch_acc\n",
        "\n",
        "    return model, train_acc_history, val_acc_history, train_loss_history, val_loss_history\n"
      ],
      "metadata": {
        "id": "EOn7-odWmeoS"
      },
      "execution_count": null,
      "outputs": []
    },
    {
      "cell_type": "code",
      "source": [
        "def plot_training_stats(train_acc, val_acc, train_loss, val_loss):\n",
        "    epochs = range(1, len(train_acc) + 1)\n",
        "\n",
        "    plt.figure(figsize=(12, 4))\n",
        "    plt.subplot(1, 2, 1)\n",
        "    plt.plot(epochs, train_acc, 'b-', label='Train Accuracy')\n",
        "    plt.plot(epochs, val_acc, 'g-', label='Validation Accuracy')\n",
        "    plt.title('Training and Validation Accuracy')\n",
        "    plt.xlabel('Epochs')\n",
        "    plt.ylabel('Accuracy')\n",
        "    plt.legend()\n",
        "\n",
        "    plt.subplot(1, 2, 2)\n",
        "    plt.plot(epochs, train_loss, 'b-', label='Train Loss')\n",
        "    plt.plot(epochs, val_loss, 'g-', label='Validation Loss')\n",
        "    plt.title('Training and Validation Loss')\n",
        "    plt.xlabel('Epochs')\n",
        "    plt.ylabel('Loss')\n",
        "    plt.legend()\n",
        "\n",
        "    plt.tight_layout()\n",
        "    plt.show()"
      ],
      "metadata": {
        "id": "ldSaI8U8l5vE"
      },
      "execution_count": null,
      "outputs": []
    },
    {
      "cell_type": "code",
      "source": [
        "# Optimizasyon algoritmasını, kayıp fonksiyonunu ve öğrenme oranı azaltma planını tanımlama\n",
        "criterion = torch.nn.CrossEntropyLoss()\n",
        "optimizer = optim.SGD(model.parameters(), lr=0.001, momentum=0.9)\n",
        "scheduler = lr_scheduler.StepLR(optimizer, step_size=7, gamma=0.1)\n",
        "\n",
        "# Modeli eğitme\n",
        "model,train_acc_history, val_acc_history, train_loss_history, val_loss_history = train_model(model, criterion, optimizer, scheduler, num_epochs=5)\n"
      ],
      "metadata": {
        "colab": {
          "base_uri": "https://localhost:8080/"
        },
        "id": "4L7OUTzYmerW",
        "outputId": "b84fa6a7-f32f-447b-dcdd-b8fc0a709d8b"
      },
      "execution_count": null,
      "outputs": [
        {
          "output_type": "stream",
          "name": "stdout",
          "text": [
            "Epoch 1/5\n",
            "----------\n",
            "train Loss: 0.0802 Acc: 0.9797\n",
            "val Loss: 0.1157 Acc: 0.9621\n",
            "Epoch 2/5\n",
            "----------\n",
            "train Loss: 0.0100 Acc: 0.9962\n",
            "val Loss: 0.0143 Acc: 0.9978\n",
            "Epoch 3/5\n",
            "----------\n",
            "train Loss: 0.0051 Acc: 0.9984\n",
            "val Loss: 0.0065 Acc: 0.9989\n",
            "Epoch 4/5\n",
            "----------\n",
            "train Loss: 0.0025 Acc: 0.9993\n",
            "val Loss: 0.0074 Acc: 0.9989\n",
            "Epoch 5/5\n",
            "----------\n",
            "train Loss: 0.0011 Acc: 0.9995\n",
            "val Loss: 0.0083 Acc: 0.9989\n"
          ]
        }
      ]
    },
    {
      "cell_type": "code",
      "source": [
        "train_acc = [t.item() for t in train_acc_history]\n",
        "val_acc = [t.item() for t in val_acc_history]\n",
        "\n",
        "# Eğitim istatistiklerini çiz\n",
        "plot_training_stats(train_acc, val_acc, train_loss_history, val_loss_history)"
      ],
      "metadata": {
        "colab": {
          "base_uri": "https://localhost:8080/",
          "height": 407
        },
        "id": "Dy8hVvQjmeue",
        "outputId": "2c426834-fa21-4fe3-e335-1b06f674a9fb"
      },
      "execution_count": null,
      "outputs": [
        {
          "output_type": "display_data",
          "data": {
            "text/plain": [
              "<Figure size 1200x400 with 2 Axes>"
            ],
            "image/png": "[encoded data removed]"
          },
          "metadata": {}
        }
      ]
    },
    {
      "cell_type": "code",
      "source": [
        "torch.save(model.state_dict(), '/content/gdrive/MyDrive/vgg16_pose_model2.pth')"
      ],
      "metadata": {
        "id": "Bh2Js7u8mexF"
      },
      "execution_count": null,
      "outputs": []
    },
    {
      "cell_type": "code",
      "source": [
        "model.load_state_dict(torch.load('/content/gdrive/MyDrive/vgg16_pose_model2.pth'))\n",
        "print(model)"
      ],
      "metadata": {
        "id": "wv5Lrfh2mezz",
        "colab": {
          "base_uri": "https://localhost:8080/"
        },
        "outputId": "bfa70f60-5922-43b6-eff8-574f71ad6521"
      },
      "execution_count": null,
      "outputs": [
        {
          "output_type": "stream",
          "name": "stdout",
          "text": [
            "VGG(\n",
            "  (features): Sequential(\n",
            "    (0): Conv2d(3, 64, kernel_size=(3, 3), stride=(1, 1), padding=(1, 1))\n",
            "    (1): ReLU(inplace=True)\n",
            "    (2): Conv2d(64, 64, kernel_size=(3, 3), stride=(1, 1), padding=(1, 1))\n",
            "    (3): ReLU(inplace=True)\n",
            "    (4): MaxPool2d(kernel_size=2, stride=2, padding=0, dilation=1, ceil_mode=False)\n",
            "    (5): Conv2d(64, 128, kernel_size=(3, 3), stride=(1, 1), padding=(1, 1))\n",
            "    (6): ReLU(inplace=True)\n",
            "    (7): Conv2d(128, 128, kernel_size=(3, 3), stride=(1, 1), padding=(1, 1))\n",
            "    (8): ReLU(inplace=True)\n",
            "    (9): MaxPool2d(kernel_size=2, stride=2, padding=0, dilation=1, ceil_mode=False)\n",
            "    (10): Conv2d(128, 256, kernel_size=(3, 3), stride=(1, 1), padding=(1, 1))\n",
            "    (11): ReLU(inplace=True)\n",
            "    (12): Conv2d(256, 256, kernel_size=(3, 3), stride=(1, 1), padding=(1, 1))\n",
            "    (13): ReLU(inplace=True)\n",
            "    (14): Conv2d(256, 256, kernel_size=(3, 3), stride=(1, 1), padding=(1, 1))\n",
            "    (15): ReLU(inplace=True)\n",
            "    (16): MaxPool2d(kernel_size=2, stride=2, padding=0, dilation=1, ceil_mode=False)\n",
            "    (17): Conv2d(256, 512, kernel_size=(3, 3), stride=(1, 1), padding=(1, 1))\n",
            "    (18): ReLU(inplace=True)\n",
            "    (19): Conv2d(512, 512, kernel_size=(3, 3), stride=(1, 1), padding=(1, 1))\n",
            "    (20): ReLU(inplace=True)\n",
            "    (21): Conv2d(512, 512, kernel_size=(3, 3), stride=(1, 1), padding=(1, 1))\n",
            "    (22): ReLU(inplace=True)\n",
            "    (23): MaxPool2d(kernel_size=2, stride=2, padding=0, dilation=1, ceil_mode=False)\n",
            "    (24): Conv2d(512, 512, kernel_size=(3, 3), stride=(1, 1), padding=(1, 1))\n",
            "    (25): ReLU(inplace=True)\n",
            "    (26): Conv2d(512, 512, kernel_size=(3, 3), stride=(1, 1), padding=(1, 1))\n",
            "    (27): ReLU(inplace=True)\n",
            "    (28): Conv2d(512, 512, kernel_size=(3, 3), stride=(1, 1), padding=(1, 1))\n",
            "    (29): ReLU(inplace=True)\n",
            "    (30): MaxPool2d(kernel_size=2, stride=2, padding=0, dilation=1, ceil_mode=False)\n",
            "  )\n",
            "  (avgpool): AdaptiveAvgPool2d(output_size=(7, 7))\n",
            "  (classifier): Sequential(\n",
            "    (0): Linear(in_features=25088, out_features=4096, bias=True)\n",
            "    (1): ReLU(inplace=True)\n",
            "    (2): Dropout(p=0.5, inplace=False)\n",
            "    (3): Linear(in_features=4096, out_features=4096, bias=True)\n",
            "  )\n",
            ")\n"
          ]
        }
      ]
    },
    {
      "cell_type": "code",
      "source": [
        "# Görüntüyü yükleme ve dönüştürme\n",
        "image_path = '/content/gdrive/MyDrive/cas100082.png'\n",
        "image = Image.open(image_path)\n",
        "\n",
        "transform = transforms.Compose([\n",
        "    transforms.Resize((224, 224)),\n",
        "    transforms.ToTensor(),\n",
        "    transforms.Normalize(mean=[0.485, 0.456, 0.406], std=[0.229, 0.224, 0.225])\n",
        "])\n",
        "\n",
        "input_image = transform(image).unsqueeze(0)  # Görüntüyü tensör formuna dönüştürme ve boyutunu genişletme\n"
      ],
      "metadata": {
        "id": "sCTNxWYXlHC8"
      },
      "execution_count": null,
      "outputs": []
    },
    {
      "cell_type": "code",
      "source": [
        "# Görüntüyü CUDA cihazına gönderme (eğer kullanılıyorsa)\n",
        "device = torch.device(\"cuda:0\" if torch.cuda.is_available() else \"cpu\")\n",
        "input_image = input_image.to(device)\n",
        "\n",
        "# Tahmin yapma\n",
        "output = model(input_image)\n",
        "_, predicted = torch.max(output, 1)\n",
        "\n",
        "print(\"Tahmin Sonucu:\")\n",
        "print(class_names[predicted.item()])\n"
      ],
      "metadata": {
        "id": "haWsv8kplHFg",
        "colab": {
          "base_uri": "https://localhost:8080/"
        },
        "outputId": "7b2925bf-2301-49bb-90b1-81c0c285a9e1"
      },
      "execution_count": null,
      "outputs": [
        {
          "output_type": "stream",
          "name": "stdout",
          "text": [
            "Tahmin Sonucu:\n",
            "fall\n"
          ]
        }
      ]
    },
    {
      "cell_type": "code",
      "source": [],
      "metadata": {
        "id": "hj2SsdjylHIE"
      },
      "execution_count": null,
      "outputs": []
    },
    {
      "cell_type": "code",
      "source": [],
      "metadata": {
        "id": "idpeK0GmlHKd"
      },
      "execution_count": null,
      "outputs": []
    }
  ]
}